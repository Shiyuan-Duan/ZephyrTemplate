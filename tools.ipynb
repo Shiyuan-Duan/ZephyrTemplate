{
 "cells": [
  {
   "cell_type": "code",
   "execution_count": 7,
   "metadata": {},
   "outputs": [
    {
     "name": "stdout",
     "output_type": "stream",
     "text": [
      "      ECG Value\n",
      "0           NaN\n",
      "1           NaN\n",
      "2           NaN\n",
      "3           NaN\n",
      "4           NaN\n",
      "...         ...\n",
      "5321        NaN\n",
      "5322        NaN\n",
      "5323        NaN\n",
      "5324        NaN\n",
      "5325        NaN\n",
      "\n",
      "[5326 rows x 1 columns]\n"
     ]
    }
   ],
   "source": [
    "import pandas as pd\n",
    "\n",
    "def parse_ecg_log_to_dataframe(log_file_path):\n",
    "    \"\"\"\n",
    "    Parse ECG values from a log file into a DataFrame.\n",
    "    \n",
    "    Parameters:\n",
    "        log_file_path (str): The path to the log file.\n",
    "\n",
    "    Returns:\n",
    "        DataFrame: A DataFrame containing the ECG values, with invalid entries set to NaN.\n",
    "    \"\"\"\n",
    "    data = {'ECG Value': []}\n",
    "\n",
    "    with open(log_file_path, 'r') as file:\n",
    "        for line in file:\n",
    "            if \"ECG_VALUE\" in line:\n",
    "\n",
    "                parts = line.strip().split()\n",
    "\n",
    "\n",
    "                etag = int(parts[2].strip(','))  # Extracting ETAG value\n",
    "                ecg_value = int(parts[-1])       # Extracting ECG value\n",
    "\n",
    "                # Check ETAG for validity\n",
    "                if etag in [0, 2]:\n",
    "                    data['ECG Value'].append(ecg_value)\n",
    "                else:\n",
    "                    data['ECG Value'].append(float('nan'))  # Append NaN for invalid ETAGs\n",
    "\n",
    "    # Create DataFrame\n",
    "    df = pd.DataFrame(data)\n",
    "    return df\n",
    "\n",
    "# Example usage\n",
    "log_file_path = 'Sample.log'\n",
    "df = parse_ecg_log_to_dataframe(log_file_path)\n",
    "print(df)\n"
   ]
  },
  {
   "cell_type": "code",
   "execution_count": 8,
   "metadata": {},
   "outputs": [
    {
     "name": "stdout",
     "output_type": "stream",
     "text": [
      "       ECG Value\n",
      "0           4727\n",
      "1           4816\n",
      "2           4857\n",
      "3           4811\n",
      "4           4716\n",
      "...          ...\n",
      "13843       -326\n",
      "13844       -370\n",
      "13845       -424\n",
      "13846       -449\n",
      "13847       -454\n",
      "\n",
      "[13848 rows x 1 columns]\n"
     ]
    }
   ],
   "source": [
    "import pandas as pd\n",
    "\n",
    "def parse_ecg_log_to_dataframe(log_file_path):\n",
    "    \"\"\"\n",
    "    Parse ECG values from a log file into a DataFrame.\n",
    "    \n",
    "    Parameters:\n",
    "        log_file_path (str): The path to the log file.\n",
    "\n",
    "    Returns:\n",
    "        DataFrame: A DataFrame containing the ECG values, with invalid entries set to NaN.\n",
    "    \"\"\"\n",
    "    data = {'ECG Value': []}\n",
    "\n",
    "    with open(log_file_path, 'r') as file:\n",
    "        for line in file:\n",
    "            if \"ECG_VALUE\" in line:\n",
    "\n",
    "                parts = line.strip().split()\n",
    "\n",
    "\n",
    "\n",
    "                ecg_value = int(parts[-1])       # Extracting ECG value\n",
    "                data['ECG Value'].append(ecg_value)\n",
    "\n",
    "    # Create DataFrame\n",
    "    data['ECG Value'] = [x for x in data['ECG Value'] if x != 0]\n",
    "    df = pd.DataFrame(data)\n",
    "    return df\n",
    "\n",
    "# Example usage\n",
    "log_file_path = 'Sample.log'\n",
    "df = parse_ecg_log_to_dataframe(log_file_path)\n",
    "print(df)\n"
   ]
  },
  {
   "cell_type": "code",
   "execution_count": 9,
   "metadata": {},
   "outputs": [],
   "source": [
    "df.to_csv('temp.csv')"
   ]
  },
  {
   "cell_type": "code",
   "execution_count": 10,
   "metadata": {},
   "outputs": [
    {
     "data": {
      "text/plain": [
       "[<matplotlib.lines.Line2D at 0x132f37e30>]"
      ]
     },
     "execution_count": 10,
     "metadata": {},
     "output_type": "execute_result"
    },
    {
     "data": {
      "image/png": "[encoded data removed]",
      "text/plain": [
       "<Figure size 640x480 with 1 Axes>"
      ]
     },
     "metadata": {},
     "output_type": "display_data"
    }
   ],
   "source": [
    "import matplotlib.pyplot as plt\n",
    "plt.plot(df)"
   ]
  },
  {
   "cell_type": "code",
   "execution_count": null,
   "metadata": {},
   "outputs": [],
   "source": []
  }
 ],
 "metadata": {
  "kernelspec": {
   "display_name": "painstudy",
   "language": "python",
   "name": "python3"
  },
  "language_info": {
   "codemirror_mode": {
    "name": "ipython",
    "version": 3
   },
   "file_extension": ".py",
   "mimetype": "text/x-python",
   "name": "python",
   "nbconvert_exporter": "python",
   "pygments_lexer": "ipython3",
   "version": "3.12.0"
  }
 },
 "nbformat": 4,
 "nbformat_minor": 2
}
