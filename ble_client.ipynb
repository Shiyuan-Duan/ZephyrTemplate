{
 "cells": [
  {
   "cell_type": "code",
   "execution_count": null,
   "metadata": {},
   "outputs": [],
   "source": []
  },
  {
   "cell_type": "code",
   "execution_count": 3,
   "metadata": {},
   "outputs": [
    {
     "name": "stdout",
     "output_type": "stream",
     "text": [
      "Found device: MY_EXG, Address: EEB84381-DEE3-2535-3295-0632CF38680F\n"
     ]
    }
   ],
   "source": [
    "import asyncio\n",
    "from bleak import BleakScanner\n",
    "\n",
    "async def scan_by_name(target_name):\n",
    "    devices = await BleakScanner.discover()\n",
    "    for device in devices:\n",
    "        if device.name == target_name:\n",
    "            print(f\"Found device: {device.name}, Address: {device.address}\")\n",
    "\n",
    "await scan_by_name(\"MY_EXG\")  # Replace with your target device's name\n"
   ]
  },
  {
   "cell_type": "code",
   "execution_count": 4,
   "metadata": {},
   "outputs": [
    {
     "ename": "RuntimeError",
     "evalue": "This event loop is already running",
     "output_type": "error",
     "traceback": [
      "\u001b[0;31m---------------------------------------------------------------------------\u001b[0m",
      "\u001b[0;31mRuntimeError\u001b[0m                              Traceback (most recent call last)",
      "Cell \u001b[0;32mIn[4], line 24\u001b[0m\n\u001b[1;32m     22\u001b[0m \u001b[38;5;66;03m# Run the event loop\u001b[39;00m\n\u001b[1;32m     23\u001b[0m loop \u001b[38;5;241m=\u001b[39m asyncio\u001b[38;5;241m.\u001b[39mget_event_loop()\n\u001b[0;32m---> 24\u001b[0m \u001b[43mloop\u001b[49m\u001b[38;5;241;43m.\u001b[39;49m\u001b[43mrun_until_complete\u001b[49m\u001b[43m(\u001b[49m\u001b[43mconnect_and_notify\u001b[49m\u001b[43m(\u001b[49m\u001b[43maddress\u001b[49m\u001b[43m,\u001b[49m\u001b[43m \u001b[49m\u001b[43mnotify_uuid\u001b[49m\u001b[43m)\u001b[49m\u001b[43m)\u001b[49m\n",
      "File \u001b[0;32m~/anaconda3/envs/painstudy/lib/python3.12/asyncio/base_events.py:640\u001b[0m, in \u001b[0;36mBaseEventLoop.run_until_complete\u001b[0;34m(self, future)\u001b[0m\n\u001b[1;32m    629\u001b[0m \u001b[38;5;250m\u001b[39m\u001b[38;5;124;03m\"\"\"Run until the Future is done.\u001b[39;00m\n\u001b[1;32m    630\u001b[0m \n\u001b[1;32m    631\u001b[0m \u001b[38;5;124;03mIf the argument is a coroutine, it is wrapped in a Task.\u001b[39;00m\n\u001b[0;32m   (...)\u001b[0m\n\u001b[1;32m    637\u001b[0m \u001b[38;5;124;03mReturn the Future's result, or raise its exception.\u001b[39;00m\n\u001b[1;32m    638\u001b[0m \u001b[38;5;124;03m\"\"\"\u001b[39;00m\n\u001b[1;32m    639\u001b[0m \u001b[38;5;28mself\u001b[39m\u001b[38;5;241m.\u001b[39m_check_closed()\n\u001b[0;32m--> 640\u001b[0m \u001b[38;5;28;43mself\u001b[39;49m\u001b[38;5;241;43m.\u001b[39;49m\u001b[43m_check_running\u001b[49m\u001b[43m(\u001b[49m\u001b[43m)\u001b[49m\n\u001b[1;32m    642\u001b[0m new_task \u001b[38;5;241m=\u001b[39m \u001b[38;5;129;01mnot\u001b[39;00m futures\u001b[38;5;241m.\u001b[39misfuture(future)\n\u001b[1;32m    643\u001b[0m future \u001b[38;5;241m=\u001b[39m tasks\u001b[38;5;241m.\u001b[39mensure_future(future, loop\u001b[38;5;241m=\u001b[39m\u001b[38;5;28mself\u001b[39m)\n",
      "File \u001b[0;32m~/anaconda3/envs/painstudy/lib/python3.12/asyncio/base_events.py:599\u001b[0m, in \u001b[0;36mBaseEventLoop._check_running\u001b[0;34m(self)\u001b[0m\n\u001b[1;32m    597\u001b[0m \u001b[38;5;28;01mdef\u001b[39;00m \u001b[38;5;21m_check_running\u001b[39m(\u001b[38;5;28mself\u001b[39m):\n\u001b[1;32m    598\u001b[0m     \u001b[38;5;28;01mif\u001b[39;00m \u001b[38;5;28mself\u001b[39m\u001b[38;5;241m.\u001b[39mis_running():\n\u001b[0;32m--> 599\u001b[0m         \u001b[38;5;28;01mraise\u001b[39;00m \u001b[38;5;167;01mRuntimeError\u001b[39;00m(\u001b[38;5;124m'\u001b[39m\u001b[38;5;124mThis event loop is already running\u001b[39m\u001b[38;5;124m'\u001b[39m)\n\u001b[1;32m    600\u001b[0m     \u001b[38;5;28;01mif\u001b[39;00m events\u001b[38;5;241m.\u001b[39m_get_running_loop() \u001b[38;5;129;01mis\u001b[39;00m \u001b[38;5;129;01mnot\u001b[39;00m \u001b[38;5;28;01mNone\u001b[39;00m:\n\u001b[1;32m    601\u001b[0m         \u001b[38;5;28;01mraise\u001b[39;00m \u001b[38;5;167;01mRuntimeError\u001b[39;00m(\n\u001b[1;32m    602\u001b[0m             \u001b[38;5;124m'\u001b[39m\u001b[38;5;124mCannot run the event loop while another loop is running\u001b[39m\u001b[38;5;124m'\u001b[39m)\n",
      "\u001b[0;31mRuntimeError\u001b[0m: This event loop is already running"
     ]
    }
   ],
   "source": [
    "address = \"EEB84381-DEE3-2535-3295-0632CF38680F\"\n",
    "notify_uuid = \"000062c7-b99e-4141-9439-c4f9db977899\"  # UUID for the notification characteristic\n",
    "\n",
    "def notification_handler(sender, data):\n",
    "    \"\"\"Prints the data received from the device.\"\"\"\n",
    "    print(f\"Notification from {sender}: {data}\")\n",
    "\n",
    "async def connect_and_notify(address, uuid):\n",
    "    async with BleakClient(address) as client:\n",
    "        x = await client.connect()\n",
    "        if x:\n",
    "            print(\"Connected successfully!\")\n",
    "            # Start receiving notifications\n",
    "            await client.start_notify(uuid, notification_handler)\n",
    "            # Keep the script running to receive notifications.\n",
    "            await asyncio.sleep(30)\n",
    "            # Stop receiving notifications\n",
    "            await client.stop_notify(uuid)\n",
    "        else:\n",
    "            print(\"Failed to connect.\")\n",
    "\n",
    "# Run the event loop\n",
    "loop = asyncio.get_event_loop()\n",
    "loop.run_until_complete(connect_and_notify(address, notify_uuid))"
   ]
  },
  {
   "cell_type": "code",
   "execution_count": 16,
   "metadata": {},
   "outputs": [
    {
     "name": "stdout",
     "output_type": "stream",
     "text": [
      "b'x0c\\xfe'\n"
     ]
    }
   ],
   "source": [
    "byte_val = b'x0c\\xfe\\xff\\xff'\n",
    " \n",
    "# converting to int\n",
    "# byteorder is big where MSB is at start\n",
    "int_val = int.from_bytes(byte_val, \"little\", signed=True)\n",
    " \n",
    "# printing int equivalent\n",
    "print(b'x0c\\xfe')"
   ]
  },
  {
   "cell_type": "code",
   "execution_count": 18,
   "metadata": {},
   "outputs": [],
   "source": [
    "data = bytearray(b\"\\x0c\\xfe\\xff\\xff\\xae\\xfe\\xff\\xff\\x9d\\xff\\xff\\xffp\\x00\\x00\\x00\\xbd\\x00\\x00\\x00q\\x00\\x00\\x00\\xbf\\xff\\xff\\xff\\xe0\\xfe\\xff\\xff\\x13\\xfe\\xff\\xff\\xb7\\xfd\\xff\\xff\\xe9\\xfd\\xff\\xff\\x83\\xfe\\xff\\xffa\\xff\\xff\\xff?\\x00\\x00\\x00\\xb6\\x00\\x00\\x00_\\xfe\\xff\\xff/\\xff\\xff\\xff\\x06\\xfe\\xff\\xff\\'\\xfd\\xff\\xff\\xea\\xfc\\xff\\xffN\\xfd\\xff\\xff7\\xfe\\xff\\xffP\\xff\\xff\\xff5\\x00\\x00\\x00\\x92\\x00\\x00\\x00I\\x00\\x00\\x00O\\xff\\xff\\xff*\\xfe\\xff\\xffR\\xfd\\xff\\xff\\x00\\xfd\\xff\\xffF\\xfd\\xff\\xff\\x00\\x00\\x00\\x00\")"
   ]
  },
  {
   "cell_type": "code",
   "execution_count": 38,
   "metadata": {},
   "outputs": [],
   "source": [
    "d2 = bytearray(b\"\\x0c\\xfe\\xff\\xff\")\n",
    "# fffffe30\n",
    "d3 = bytearray(b\"\\xff\\xff\\xfe\\x30\")\n",
    "d3 = bytearray(b\"\\x30\\xfe\\xff\\xff\")\n"
   ]
  },
  {
   "cell_type": "code",
   "execution_count": 41,
   "metadata": {},
   "outputs": [
    {
     "name": "stdout",
     "output_type": "stream",
     "text": [
      "-500\n"
     ]
    }
   ],
   "source": [
    "print(int.from_bytes(d2, 'little',signed=True))"
   ]
  },
  {
   "cell_type": "code",
   "execution_count": null,
   "metadata": {},
   "outputs": [],
   "source": []
  }
 ],
 "metadata": {
  "kernelspec": {
   "display_name": "painstudy",
   "language": "python",
   "name": "python3"
  },
  "language_info": {
   "codemirror_mode": {
    "name": "ipython",
    "version": 3
   },
   "file_extension": ".py",
   "mimetype": "text/x-python",
   "name": "python",
   "nbconvert_exporter": "python",
   "pygments_lexer": "ipython3",
   "version": "3.12.0"
  }
 },
 "nbformat": 4,
 "nbformat_minor": 2
}
